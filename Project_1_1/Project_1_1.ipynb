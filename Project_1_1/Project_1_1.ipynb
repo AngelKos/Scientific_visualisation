{
 "cells": [
  {
   "cell_type": "code",
   "execution_count": null,
   "id": "5cb3e53e",
   "metadata": {
    "scrolled": false
   },
   "outputs": [],
   "source": [
    "import gmsh\n",
    "import math\n",
    "import os\n",
    "import sys\n",
    "\n",
    "gmsh.initialize()\n",
    "\n",
    "gmsh.merge('Vase.stl')\n",
    "\n",
    "gmsh.model.mesh.classifySurfaces(30 * math.pi / 180., True, False, math.pi)\n",
    "\n",
    "gmsh.model.mesh.createGeometry()\n",
    "\n",
    "entities = gmsh.model.getEntities(2)\n",
    "loops = gmsh.model.geo.addSurfaceLoop([entities[i][1] for i in range(len(entities))])\n",
    "gmsh.model.geo.addVolume([loops])\n",
    "\n",
    "gmsh.model.geo.synchronize()\n",
    "\n",
    "evaluation = gmsh.model.mesh.field.add(\"MathEval\")\n",
    "gmsh.model.mesh.field.setString(evaluation, \"F\", \"4\")\n",
    "gmsh.model.mesh.field.setAsBackgroundMesh(evaluation)\n",
    "\n",
    "gmsh.model.mesh.generate(3)\n",
    "gmsh.write('Vase.msh')\n",
    "\n",
    "if '-nopopup' not in sys.argv:\n",
    "    gmsh.fltk.run()\n",
    "\n",
    "gmsh.finalize()\n"
   ]
  },
  {
   "cell_type": "code",
   "execution_count": null,
   "id": "63daeab0",
   "metadata": {},
   "outputs": [],
   "source": []
  }
 ],
 "metadata": {
  "kernelspec": {
   "display_name": "Python 3 (ipykernel)",
   "language": "python",
   "name": "python3"
  },
  "language_info": {
   "codemirror_mode": {
    "name": "ipython",
    "version": 3
   },
   "file_extension": ".py",
   "mimetype": "text/x-python",
   "name": "python",
   "nbconvert_exporter": "python",
   "pygments_lexer": "ipython3",
   "version": "3.9.7"
  }
 },
 "nbformat": 4,
 "nbformat_minor": 5
}
