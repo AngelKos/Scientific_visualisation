{
 "cells": [
  {
   "cell_type": "code",
   "execution_count": 22,
   "metadata": {},
   "outputs": [
    {
     "name": "stdout",
     "output_type": "stream",
     "text": [
      "0.025\n",
      "0.05\n",
      "0.07500000000000001\n",
      "0.1\n",
      "0.125\n",
      "0.15\n",
      "0.175\n",
      "0.19999999999999998\n",
      "0.22499999999999998\n",
      "0.24999999999999997\n",
      "0.27499999999999997\n",
      "0.3\n",
      "0.325\n",
      "0.35000000000000003\n",
      "0.37500000000000006\n",
      "0.4000000000000001\n",
      "0.4250000000000001\n",
      "0.4500000000000001\n",
      "0.47500000000000014\n",
      "0.5000000000000001\n"
     ]
    }
   ],
   "source": [
    "from fenics import *\n",
    "\n",
    "T = 0.5            # final time\n",
    "num_steps = 20     # number of time steps\n",
    "dt = T / num_steps # time step size\n",
    "K = 0.5          # kappa parameter\n",
    "H = 1         # heat loss parameter\n",
    "\n",
    "\n",
    "# Create mesh and define function space\n",
    "nx = ny = nz = 20\n",
    "mesh = UnitSquareMesh(nx, ny)\n",
    "V = FunctionSpace(mesh, 'P', 1)\n",
    "\n",
    "# Define boundary condition\n",
    "#u_D = Expression('1 + alpha*x[0]*x[0] + alpha*x[1]*x[1] + beta*t', degree=2, alpha=alpha, beta=beta, t=0)\n",
    "#u_D = Constant(1.0)\n",
    "T = 10 #outside temperature\n",
    "\n",
    "def boundary(x, on_boundary):\n",
    "    return on_boundary\n",
    "\n",
    "#bc = DirichletBC(V, u_D, boundary)\n",
    "\n",
    "# Define initial value\n",
    "#u_n = Constant(10)\n",
    "u_n = project(Constant(10), V)\n",
    "\n",
    "# Define variational problem\n",
    "u = TrialFunction(V)\n",
    "v = TestFunction(V)\n",
    "\n",
    "tol = 1E-14\n",
    "#f = Expression('x[0] <= 0 + tol && x[1] <= 0 + tol && x[2] <= 0 + tol ? 5 : 0', degree=0, tol=tol)\n",
    "f = Constant(100)\n",
    "\n",
    "a = K*dt*dot(grad(u), grad(v))*dx + u*v*dx - H/K*u*v*ds\n",
    "L = dt*f*v*dx + u_n*v*dx - H/K*T*v*ds\n",
    "\n",
    "res_file = File('heat/solution.pvd')\n",
    "\n",
    "# Time-stepping\n",
    "u = Function(V)\n",
    "t = 0\n",
    "for n in range(num_steps):\n",
    "\n",
    "    # Update current time\n",
    "    t += dt\n",
    "    print(t)\n",
    "    #u_D.t = t\n",
    "\n",
    "    # Compute solution\n",
    "    solve(a == L, u)\n",
    "\n",
    "    # Save solution to VTK\n",
    "    res_file << u\n",
    "\n",
    "    # Update previous solution\n",
    "    u_n.assign(u)"
   ]
  },
  {
   "cell_type": "code",
   "execution_count": null,
   "metadata": {},
   "outputs": [],
   "source": []
  },
  {
   "cell_type": "code",
   "execution_count": null,
   "metadata": {},
   "outputs": [],
   "source": []
  }
 ],
 "metadata": {
  "kernelspec": {
   "display_name": "Python 3",
   "language": "python",
   "name": "python3"
  },
  "language_info": {
   "codemirror_mode": {
    "name": "ipython",
    "version": 3
   },
   "file_extension": ".py",
   "mimetype": "text/x-python",
   "name": "python",
   "nbconvert_exporter": "python",
   "pygments_lexer": "ipython3",
   "version": "3.6.9"
  }
 },
 "nbformat": 4,
 "nbformat_minor": 5
}
