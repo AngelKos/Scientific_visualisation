{
 "cells": [
  {
   "cell_type": "code",
   "execution_count": 1,
   "id": "fbd6d077",
   "metadata": {
    "scrolled": true
   },
   "outputs": [],
   "source": [
    "import gmsh\n",
    "import sys\n",
    "import os\n",
    "import math\n",
    "\n",
    "gmsh.initialize()\n",
    "\n",
    "gmsh.model.add(\"t1\")\n",
    "\n",
    "n = 100\n",
    "r = 0\n",
    "lc = 1e-2\n",
    "for i in range(n):\n",
    "    for j in range(n):\n",
    "        r = 0.75 + 0.25 * math.cos (2 * math.pi * j / n)\n",
    "        gmsh.model.geo.addPoint(r * math.cos(2 * math.pi * i / n), r * math.sin(2 * math.pi * i / n), 0.25 * math.sin(2 * math.pi * j / n), lc, i * n + j)\n",
    "\n",
    "for i in range(n):\n",
    "    for j in range(n - 1):\n",
    "        gmsh.model.geo.addLine(i * n + j, i * n + j + 1, i * n + j + 1)\n",
    "    gmsh.model.geo.addLine(n * (i + 1) - 1, i * n, n * (i + 1))\n",
    "    \n",
    "for i in range(n):\n",
    "    for j in range(n):\n",
    "        if (i == n - 1):\n",
    "            gmsh.model.geo.addLine(i * n + j, j, n * n + i * n + j + 1)\n",
    "        else:\n",
    "            gmsh.model.geo.addLine(i * n + j, (i + 1) * n + j, n * n + i * n + j + 1)\n",
    "            \n",
    "for i in range(n):\n",
    "    for j in range(n):\n",
    "        if (i == n - 1):\n",
    "            if (j == n - 1):\n",
    "                gmsh.model.geo.addCurveLoop([i * n + j + 1, n * n + i * n + 1, -(j + 1), -(n * n + i * n + j + 1)], i * n + j + 1)\n",
    "            else:\n",
    "                gmsh.model.geo.addCurveLoop([i * n + j + 1, n * n + i * n + j + 1 + 1, -(j + 1), -(n * n + i * n + j + 1)], i * n + j + 1)\n",
    "        else:\n",
    "            if (j == n - 1):\n",
    "                gmsh.model.geo.addCurveLoop([i * n + j + 1, n * n + i * n + 1, -((i + 1) * n + j + 1), -(n * n + i * n + j + 1)], i * n + j + 1)\n",
    "            else:\n",
    "                gmsh.model.geo.addCurveLoop([i * n + j + 1, n * n + i * n + j + 1 + 1, -((i + 1) * n + j + 1), -(n * n + i * n + j + 1)], i * n + j + 1)\n",
    "        gmsh.model.geo.addPlaneSurface([i * n + j + 1], i * n + j + 1)\n",
    "            \n",
    "gmsh.model.geo.synchronize()\n",
    "\n",
    "gmsh.model.mesh.generate(3)\n",
    "\n",
    "gmsh.write(\"t1.msh\")\n",
    "gmsh.write(\"t1.geo_unrolled\")\n",
    "\n",
    "if '-nopopup' not in sys.argv:\n",
    "    gmsh.fltk.run()\n",
    "\n",
    "gmsh.finalize()"
   ]
  },
  {
   "cell_type": "code",
   "execution_count": null,
   "id": "6a7f67f8",
   "metadata": {},
   "outputs": [],
   "source": []
  }
 ],
 "metadata": {
  "kernelspec": {
   "display_name": "Python 3 (ipykernel)",
   "language": "python",
   "name": "python3"
  },
  "language_info": {
   "codemirror_mode": {
    "name": "ipython",
    "version": 3
   },
   "file_extension": ".py",
   "mimetype": "text/x-python",
   "name": "python",
   "nbconvert_exporter": "python",
   "pygments_lexer": "ipython3",
   "version": "3.9.7"
  }
 },
 "nbformat": 4,
 "nbformat_minor": 5
}
